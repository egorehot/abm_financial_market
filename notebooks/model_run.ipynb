{
 "cells": [
  {
   "cell_type": "code",
   "execution_count": null,
   "id": "4c6c3187-8823-4dff-ba8c-5f31aa8756da",
   "metadata": {},
   "outputs": [],
   "source": [
    "import os\n",
    "import sys\n",
    "\n",
    "import matplotlib.pyplot as plt\n",
    "\n",
    "\n",
    "abm_dir = os.path.abspath('..')\n",
    "if abm_dir not in sys.path:\n",
    "    sys.path.append(abm_dir)\n",
    "\n",
    "import run_model"
   ]
  },
  {
   "cell_type": "code",
   "execution_count": null,
   "id": "4fecb0c8-ca62-44ca-9d12-221c82bfcfa8",
   "metadata": {},
   "outputs": [],
   "source": [
    "run_model.config.RANDOM_SEED = run_model.config.SEEDS[10]\n",
    "model = run_model.MarketModel(\n",
    "    fundamentalists_number=100,\n",
    "    chartists_number=100,\n",
    "    steps_number=252,\n",
    "    initial_market_price=100,\n",
    "    tick_size=0.05\n",
    ")\n",
    "model.run_model()"
   ]
  },
  {
   "cell_type": "code",
   "execution_count": null,
   "id": "b4655d8d-2302-4d2d-89c7-29738d5c8fa0",
   "metadata": {},
   "outputs": [],
   "source": [
    "model_df = model.datacollector.get_model_vars_dataframe()\n",
    "model_df"
   ]
  },
  {
   "cell_type": "code",
   "execution_count": null,
   "id": "2c57b0bb-d350-417c-87b2-ea6d5cb67e5c",
   "metadata": {},
   "outputs": [],
   "source": [
    "model_df = model.datacollector.get_model_vars_dataframe()\n",
    "model_df"
   ]
  },
  {
   "cell_type": "code",
   "execution_count": null,
   "id": "fe2a902d-26eb-4e6d-a930-e5540a06cd32",
   "metadata": {},
   "outputs": [],
   "source": [
    "model_df[['Price', 'Optimists']].plot(grid=True)"
   ]
  },
  {
   "cell_type": "code",
   "execution_count": null,
   "id": "3a1ff558-2255-4a7b-85d2-6f14bffa51dc",
   "metadata": {},
   "outputs": [],
   "source": [
    "avg_spread = ((model_df['Best ask price'] - model_df['Best bid price']) / model_df['Price']).mean()\n",
    "std_price = model_df['Price'].std()\n",
    "avg_transactions = model_df['Transactions'].mean()\n",
    "ttl_transactions = model_df['Transactions'].sum()\n",
    "avg_volume = model_df['Volume'].mean()\n",
    "ttl_volume = model_df['Volume'].sum()\n",
    "\n",
    "print('Metrics')\n",
    "print(f'Average spread:{\" \" * (20 - 14)} {avg_spread:.4f}')\n",
    "print(f'Std price:{\" \" * (20 - 9)} {std_price:.4f}')\n",
    "print(f'Average transactions: {avg_transactions:.4f}')\n",
    "print(f'Total transactions:{\" \" * (20 - 18)} {ttl_transactions}')\n",
    "print(f'Average volume:{\" \" * (20 - 14)} {avg_volume:.4f}')\n",
    "print(f'Total volume:{\" \" * (20 - 12)} {ttl_volume}')"
   ]
  },
  {
   "cell_type": "code",
   "execution_count": null,
   "id": "52e5fcbd-6270-4786-a5f5-1b8108a50fa5",
   "metadata": {},
   "outputs": [],
   "source": [
    "agent_df = model.datacollector.get_agent_vars_dataframe()\n",
    "agent_df = agent_df[agent_df['Type'].isin(['FundamentalistAgent', 'ChartistAgent'])]\n",
    "agent_df"
   ]
  },
  {
   "cell_type": "code",
   "execution_count": null,
   "id": "be3041e1-bb48-48c3-8f69-adb6d6032e3f",
   "metadata": {},
   "outputs": [],
   "source": [
    "fund_bankrupts = agent_df[agent_df['Type'] == 'FundamentalistAgent'].groupby('Step')['Is bankrupt'].sum()\n",
    "chart_bankrupts = agent_df[agent_df['Type'] == 'ChartistAgent'].groupby('Step')['Is bankrupt'].sum()\n",
    "\n",
    "plt.plot(fund_bankrupts)\n",
    "plt.plot(chart_bankrupts)\n",
    "plt.grid(True, alpha=0.2)"
   ]
  },
  {
   "cell_type": "code",
   "execution_count": null,
   "id": "70478bc0-590f-45df-8d31-85920a045ce0",
   "metadata": {},
   "outputs": [],
   "source": [
    "model_df.loc[80:130]"
   ]
  },
  {
   "cell_type": "code",
   "execution_count": null,
   "id": "d280b8ae-53eb-433e-bce1-368c3e52aa82",
   "metadata": {},
   "outputs": [],
   "source": [
    "fund_price = agent_df[agent_df['Type'] == 'FundamentalistAgent'].groupby('Step')['Fundamental prices'].mean()\n",
    "\n",
    "plt.plot(fund_price, label='Fund price')\n",
    "plt.plot(model_df['Price'], label='Market price')\n",
    "plt.legend()\n",
    "plt.grid(True, alpha=0.2)"
   ]
  },
  {
   "cell_type": "markdown",
   "id": "aa94114c-0eba-478c-87b4-24ad977e9cc5",
   "metadata": {},
   "source": []
  }
 ],
 "metadata": {
  "kernelspec": {
   "display_name": "Python 3 (ipykernel)",
   "language": "python",
   "name": "python3"
  },
  "language_info": {
   "codemirror_mode": {
    "name": "ipython",
    "version": 3
   },
   "file_extension": ".py",
   "mimetype": "text/x-python",
   "name": "python",
   "nbconvert_exporter": "python",
   "pygments_lexer": "ipython3",
   "version": "3.11.5"
  }
 },
 "nbformat": 4,
 "nbformat_minor": 5
}
